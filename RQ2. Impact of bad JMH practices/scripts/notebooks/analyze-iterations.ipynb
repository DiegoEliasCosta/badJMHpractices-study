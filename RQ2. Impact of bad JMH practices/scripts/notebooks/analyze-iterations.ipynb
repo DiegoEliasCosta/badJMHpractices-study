{
 "cells": [
  {
   "cell_type": "markdown",
   "metadata": {},
   "source": [
    "# Iteration Analysis\n",
    "\n",
    "With this notebook we analyze the amount of iterations evaluated on each experiment."
   ]
  },
  {
   "cell_type": "code",
   "execution_count": null,
   "metadata": {},
   "outputs": [],
   "source": [
    "import os\n",
    "import pandas as pd"
   ]
  },
  {
   "cell_type": "code",
   "execution_count": null,
   "metadata": {},
   "outputs": [],
   "source": [
    "folder = \"../../results\"\n",
    "\n",
    "projects = ['log4j2', 'netty', 'druid', 'pgdbc', 'h2o-3', 'gs-collections']\n",
    "\n",
    "experiments = ['FINA', 'LOOP', 'RETU', 'SETUP', 'INVO', 'FORK']\n",
    "\n",
    "versions = ['original', 'fixed_full']\n",
    "\n",
    "files = ['original-all.csv', 'fixed-all.csv']\n"
   ]
  },
  {
   "cell_type": "code",
   "execution_count": null,
   "metadata": {},
   "outputs": [],
   "source": [
    "# Read everything\n",
    "\n",
    "df = pd.DataFrame()\n",
    "for p in projects:\n",
    "    for exp in experiments:\n",
    "        for v, f in zip(versions, files):\n",
    "            \n",
    "            fname = os.path.join(folder, p, 'exp-%s-out' % exp, v, f)\n",
    "            if os.path.isfile(fname): \n",
    "                temp = pd.read_csv(fname)\n",
    "\n",
    "                temp['Project'] = p\n",
    "                temp['Experiment'] = exp\n",
    "                temp['Version'] = v\n",
    "\n",
    "                df = temp if len(df) == 0 else df.append(temp)\n",
    "            else:\n",
    "                print('Skipping the file %s'  % fname)\n",
    "            \n",
    "len(df)\n"
   ]
  },
  {
   "cell_type": "code",
   "execution_count": null,
   "metadata": {},
   "outputs": [],
   "source": [
    "iterations = df.groupby(['Project', 'Experiment', 'Class', 'Method'], as_index=False).apply(lambda x : len(x)).reset_index()"
   ]
  },
  {
   "cell_type": "code",
   "execution_count": null,
   "metadata": {},
   "outputs": [],
   "source": [
    "iterations.groupby(['Project', 'Experiment']).apply(lambda x : x[0].min())"
   ]
  },
  {
   "cell_type": "code",
   "execution_count": null,
   "metadata": {},
   "outputs": [],
   "source": [
    "iterations.groupby(['Project', 'Experiment']).apply(lambda x : x[0].max())"
   ]
  },
  {
   "cell_type": "code",
   "execution_count": null,
   "metadata": {},
   "outputs": [],
   "source": [
    "iterations[0].median()"
   ]
  }
 ],
 "metadata": {
  "kernelspec": {
   "display_name": "Python 3",
   "language": "python",
   "name": "python3"
  },
  "language_info": {
   "codemirror_mode": {
    "name": "ipython",
    "version": 3
   },
   "file_extension": ".py",
   "mimetype": "text/x-python",
   "name": "python",
   "nbconvert_exporter": "python",
   "pygments_lexer": "ipython3",
   "version": "3.6.5"
  }
 },
 "nbformat": 4,
 "nbformat_minor": 2
}
