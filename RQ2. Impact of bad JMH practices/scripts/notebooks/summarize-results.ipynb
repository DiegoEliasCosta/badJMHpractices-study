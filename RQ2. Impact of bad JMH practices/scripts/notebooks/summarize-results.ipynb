{
 "cells": [
  {
   "cell_type": "code",
   "execution_count": 1,
   "metadata": {},
   "outputs": [],
   "source": [
    "import os\n",
    "import pandas as pd"
   ]
  },
  {
   "cell_type": "code",
   "execution_count": 2,
   "metadata": {},
   "outputs": [],
   "source": [
    "folder = \"../../results\"\n",
    "\n",
    "projects = ['log4j2', 'netty', 'okio', 'druid', 'pgdbc', 'h2o-3', 'gs-collections']\n",
    "\n",
    "experiments = ['FINA', 'LOOP', 'RETU', 'SETUP', 'INVO', 'FORK']\n",
    "\n",
    "versions = ['original', 'fixed_full']\n",
    "\n",
    "files = ['original-all.csv', 'fixed-all.csv']\n"
   ]
  },
  {
   "cell_type": "code",
   "execution_count": 3,
   "metadata": {},
   "outputs": [
    {
     "name": "stdout",
     "output_type": "stream",
     "text": [
      "Skipping the file ../../results\\log4j2\\exp-SETUP-out\\original\\original-all.csv\n",
      "Skipping the file ../../results\\log4j2\\exp-SETUP-out\\fixed_full\\fixed-all.csv\n",
      "Skipping the file ../../results\\log4j2\\exp-INVO-out\\original\\original-all.csv\n",
      "Skipping the file ../../results\\log4j2\\exp-INVO-out\\fixed_full\\fixed-all.csv\n",
      "Skipping the file ../../results\\log4j2\\exp-FORK-out\\original\\original-all.csv\n",
      "Skipping the file ../../results\\log4j2\\exp-FORK-out\\fixed_full\\fixed-all.csv\n",
      "Skipping the file ../../results\\netty\\exp-SETUP-out\\original\\original-all.csv\n",
      "Skipping the file ../../results\\netty\\exp-SETUP-out\\fixed_full\\fixed-all.csv\n",
      "Skipping the file ../../results\\netty\\exp-FORK-out\\original\\original-all.csv\n",
      "Skipping the file ../../results\\netty\\exp-FORK-out\\fixed_full\\fixed-all.csv\n",
      "Skipping the file ../../results\\okio\\exp-FINA-out\\original\\original-all.csv\n",
      "Skipping the file ../../results\\okio\\exp-FINA-out\\fixed_full\\fixed-all.csv\n",
      "Skipping the file ../../results\\okio\\exp-LOOP-out\\original\\original-all.csv\n",
      "Skipping the file ../../results\\okio\\exp-LOOP-out\\fixed_full\\fixed-all.csv\n",
      "Skipping the file ../../results\\okio\\exp-RETU-out\\original\\original-all.csv\n",
      "Skipping the file ../../results\\okio\\exp-RETU-out\\fixed_full\\fixed-all.csv\n",
      "Skipping the file ../../results\\okio\\exp-SETUP-out\\original\\original-all.csv\n",
      "Skipping the file ../../results\\okio\\exp-SETUP-out\\fixed_full\\fixed-all.csv\n",
      "Skipping the file ../../results\\okio\\exp-INVO-out\\original\\original-all.csv\n",
      "Skipping the file ../../results\\okio\\exp-INVO-out\\fixed_full\\fixed-all.csv\n",
      "Skipping the file ../../results\\okio\\exp-FORK-out\\original\\original-all.csv\n",
      "Skipping the file ../../results\\okio\\exp-FORK-out\\fixed_full\\fixed-all.csv\n",
      "Skipping the file ../../results\\druid\\exp-FINA-out\\original\\original-all.csv\n",
      "Skipping the file ../../results\\druid\\exp-FINA-out\\fixed_full\\fixed-all.csv\n",
      "Skipping the file ../../results\\druid\\exp-RETU-out\\original\\original-all.csv\n",
      "Skipping the file ../../results\\druid\\exp-RETU-out\\fixed_full\\fixed-all.csv\n",
      "Skipping the file ../../results\\druid\\exp-SETUP-out\\original\\original-all.csv\n",
      "Skipping the file ../../results\\druid\\exp-SETUP-out\\fixed_full\\fixed-all.csv\n",
      "Skipping the file ../../results\\druid\\exp-FORK-out\\original\\original-all.csv\n",
      "Skipping the file ../../results\\druid\\exp-FORK-out\\fixed_full\\fixed-all.csv\n",
      "Skipping the file ../../results\\pgdbc\\exp-FINA-out\\original\\original-all.csv\n",
      "Skipping the file ../../results\\pgdbc\\exp-FINA-out\\fixed_full\\fixed-all.csv\n",
      "Skipping the file ../../results\\pgdbc\\exp-LOOP-out\\original\\original-all.csv\n",
      "Skipping the file ../../results\\pgdbc\\exp-LOOP-out\\fixed_full\\fixed-all.csv\n",
      "Skipping the file ../../results\\pgdbc\\exp-RETU-out\\original\\original-all.csv\n",
      "Skipping the file ../../results\\pgdbc\\exp-RETU-out\\fixed_full\\fixed-all.csv\n",
      "Skipping the file ../../results\\pgdbc\\exp-SETUP-out\\original\\original-all.csv\n",
      "Skipping the file ../../results\\pgdbc\\exp-SETUP-out\\fixed_full\\fixed-all.csv\n",
      "Skipping the file ../../results\\pgdbc\\exp-INVO-out\\original\\original-all.csv\n",
      "Skipping the file ../../results\\pgdbc\\exp-INVO-out\\fixed_full\\fixed-all.csv\n",
      "Skipping the file ../../results\\h2o-3\\exp-FINA-out\\original\\original-all.csv\n",
      "Skipping the file ../../results\\h2o-3\\exp-FINA-out\\fixed_full\\fixed-all.csv\n",
      "Skipping the file ../../results\\h2o-3\\exp-LOOP-out\\original\\original-all.csv\n",
      "Skipping the file ../../results\\h2o-3\\exp-LOOP-out\\fixed_full\\fixed-all.csv\n",
      "Skipping the file ../../results\\h2o-3\\exp-RETU-out\\original\\original-all.csv\n",
      "Skipping the file ../../results\\h2o-3\\exp-RETU-out\\fixed_full\\fixed-all.csv\n",
      "Skipping the file ../../results\\h2o-3\\exp-SETUP-out\\original\\original-all.csv\n",
      "Skipping the file ../../results\\h2o-3\\exp-SETUP-out\\fixed_full\\fixed-all.csv\n",
      "Skipping the file ../../results\\h2o-3\\exp-FORK-out\\original\\original-all.csv\n",
      "Skipping the file ../../results\\h2o-3\\exp-FORK-out\\fixed_full\\fixed-all.csv\n",
      "Skipping the file ../../results\\gs-collections\\exp-FINA-out\\original\\original-all.csv\n",
      "Skipping the file ../../results\\gs-collections\\exp-FINA-out\\fixed_full\\fixed-all.csv\n",
      "Skipping the file ../../results\\gs-collections\\exp-LOOP-out\\original\\original-all.csv\n",
      "Skipping the file ../../results\\gs-collections\\exp-LOOP-out\\fixed_full\\fixed-all.csv\n",
      "Skipping the file ../../results\\gs-collections\\exp-SETUP-out\\original\\original-all.csv\n",
      "Skipping the file ../../results\\gs-collections\\exp-SETUP-out\\fixed_full\\fixed-all.csv\n",
      "Skipping the file ../../results\\gs-collections\\exp-INVO-out\\original\\original-all.csv\n",
      "Skipping the file ../../results\\gs-collections\\exp-INVO-out\\fixed_full\\fixed-all.csv\n",
      "Skipping the file ../../results\\gs-collections\\exp-FORK-out\\original\\original-all.csv\n",
      "Skipping the file ../../results\\gs-collections\\exp-FORK-out\\fixed_full\\fixed-all.csv\n"
     ]
    },
    {
     "data": {
      "text/plain": [
       "230430"
      ]
     },
     "execution_count": 3,
     "metadata": {},
     "output_type": "execute_result"
    }
   ],
   "source": [
    "# Read everything\n",
    "\n",
    "df = pd.DataFrame()\n",
    "for p in projects:\n",
    "    for exp in experiments:\n",
    "        for v, f in zip(versions, files):\n",
    "            \n",
    "            fname = os.path.join(folder, p, 'exp-%s-out' % exp, v, f)\n",
    "            if os.path.isfile(fname): \n",
    "                temp = pd.read_csv(fname)\n",
    "\n",
    "                temp['Project'] = p\n",
    "                temp['Experiment'] = exp\n",
    "                temp['Version'] = v\n",
    "\n",
    "                df = temp if len(df) == 0 else df.append(temp)\n",
    "            else:\n",
    "                print('Skipping the file %s'  % fname)\n",
    "            \n",
    "len(df)\n"
   ]
  },
  {
   "cell_type": "code",
   "execution_count": 4,
   "metadata": {},
   "outputs": [],
   "source": [
    "#df.to_csv(os.path.join(folder, 'raw-results.csv'))"
   ]
  },
  {
   "cell_type": "code",
   "execution_count": 5,
   "metadata": {},
   "outputs": [
    {
     "name": "stdout",
     "output_type": "stream",
     "text": [
      "Skipping the file ../../results\\log4j2\\exp-SETUP-out\\analysis\\summary.csv\n",
      "Skipping the file ../../results\\log4j2\\exp-INVO-out\\analysis\\summary.csv\n",
      "Skipping the file ../../results\\log4j2\\exp-FORK-out\\analysis\\summary.csv\n",
      "Skipping the file ../../results\\netty\\exp-SETUP-out\\analysis\\summary.csv\n",
      "Skipping the file ../../results\\netty\\exp-FORK-out\\analysis\\summary.csv\n",
      "Skipping the file ../../results\\okio\\exp-FINA-out\\analysis\\summary.csv\n",
      "Skipping the file ../../results\\okio\\exp-LOOP-out\\analysis\\summary.csv\n",
      "Skipping the file ../../results\\okio\\exp-RETU-out\\analysis\\summary.csv\n",
      "Skipping the file ../../results\\okio\\exp-SETUP-out\\analysis\\summary.csv\n",
      "Skipping the file ../../results\\okio\\exp-INVO-out\\analysis\\summary.csv\n",
      "Skipping the file ../../results\\okio\\exp-FORK-out\\analysis\\summary.csv\n",
      "Skipping the file ../../results\\druid\\exp-FINA-out\\analysis\\summary.csv\n",
      "Skipping the file ../../results\\druid\\exp-RETU-out\\analysis\\summary.csv\n",
      "Skipping the file ../../results\\druid\\exp-SETUP-out\\analysis\\summary.csv\n",
      "Skipping the file ../../results\\druid\\exp-FORK-out\\analysis\\summary.csv\n",
      "Skipping the file ../../results\\pgdbc\\exp-FINA-out\\analysis\\summary.csv\n",
      "Skipping the file ../../results\\pgdbc\\exp-LOOP-out\\analysis\\summary.csv\n",
      "Skipping the file ../../results\\pgdbc\\exp-RETU-out\\analysis\\summary.csv\n",
      "Skipping the file ../../results\\pgdbc\\exp-SETUP-out\\analysis\\summary.csv\n",
      "Skipping the file ../../results\\pgdbc\\exp-INVO-out\\analysis\\summary.csv\n",
      "Skipping the file ../../results\\h2o-3\\exp-FINA-out\\analysis\\summary.csv\n",
      "Skipping the file ../../results\\h2o-3\\exp-LOOP-out\\analysis\\summary.csv\n",
      "Skipping the file ../../results\\h2o-3\\exp-RETU-out\\analysis\\summary.csv\n",
      "Skipping the file ../../results\\h2o-3\\exp-SETUP-out\\analysis\\summary.csv\n",
      "Skipping the file ../../results\\h2o-3\\exp-FORK-out\\analysis\\summary.csv\n",
      "Skipping the file ../../results\\gs-collections\\exp-FINA-out\\analysis\\summary.csv\n",
      "Skipping the file ../../results\\gs-collections\\exp-LOOP-out\\analysis\\summary.csv\n",
      "Skipping the file ../../results\\gs-collections\\exp-SETUP-out\\analysis\\summary.csv\n",
      "Skipping the file ../../results\\gs-collections\\exp-INVO-out\\analysis\\summary.csv\n",
      "Skipping the file ../../results\\gs-collections\\exp-FORK-out\\analysis\\summary.csv\n"
     ]
    },
    {
     "data": {
      "text/plain": [
       "350"
      ]
     },
     "execution_count": 5,
     "metadata": {},
     "output_type": "execute_result"
    }
   ],
   "source": [
    "# Read everything\n",
    "\n",
    "analyzed = 'analysis'\n",
    "\n",
    "df_summarized = pd.DataFrame()\n",
    "for p in projects:\n",
    "    for exp in experiments:\n",
    "        fname = os.path.join(folder, p, 'exp-%s-out' % exp, analyzed, 'summary.csv')\n",
    "        if os.path.isfile(fname): \n",
    "            temp = pd.read_csv(fname)\n",
    "\n",
    "            temp['Project'] = p\n",
    "            temp['Experiment'] = exp\n",
    "\n",
    "            df_summarized = temp if len(df_summarized) == 0 else df_summarized.append(temp)\n",
    "        else:\n",
    "            print('Skipping the file %s'  % fname)\n",
    "            \n",
    "len(df_summarized)\n"
   ]
  },
  {
   "cell_type": "code",
   "execution_count": 9,
   "metadata": {},
   "outputs": [],
   "source": [
    "def normalize_factor(df):\n",
    "    ori = df.Original\n",
    "    fix = df.Fixed\n",
    "    \n",
    "    if df.Factor == 0:\n",
    "        return float(0)\n",
    "    \n",
    "    if df['Benchmark Mode'] == 'Throughput, ops/time':\n",
    "        ori, fix = fix, ori # Swap \n",
    "    \n",
    "    if fix > ori:\n",
    "        new_factor = fix / ori\n",
    "    \n",
    "    else:\n",
    "        new_factor = - ori / fix\n",
    "        \n",
    "    return float(new_factor)\n",
    "\n",
    "df_summarized['New Factor'] = df_summarized.apply(normalize_factor, axis=1)"
   ]
  },
  {
   "cell_type": "code",
   "execution_count": 7,
   "metadata": {},
   "outputs": [],
   "source": [
    "df_summarized.to_csv(os.path.join(folder, 'summarized-results.csv'))"
   ]
  },
  {
   "cell_type": "markdown",
   "metadata": {},
   "source": [
    "### Median of LOOP result"
   ]
  },
  {
   "cell_type": "code",
   "execution_count": 21,
   "metadata": {},
   "outputs": [],
   "source": [
    "loop = df_summarized.query(\"Experiment == 'LOOP' and Wilcoxom == True\")"
   ]
  },
  {
   "cell_type": "code",
   "execution_count": 22,
   "metadata": {},
   "outputs": [
    {
     "data": {
      "text/plain": [
       "1.2207509065749336"
      ]
     },
     "execution_count": 22,
     "metadata": {},
     "output_type": "execute_result"
    }
   ],
   "source": [
    "loop['New Factor'].median()"
   ]
  },
  {
   "cell_type": "code",
   "execution_count": null,
   "metadata": {},
   "outputs": [],
   "source": [
    "df_summari"
   ]
  }
 ],
 "metadata": {
  "kernelspec": {
   "display_name": "Python 3",
   "language": "python",
   "name": "python3"
  },
  "language_info": {
   "codemirror_mode": {
    "name": "ipython",
    "version": 3
   },
   "file_extension": ".py",
   "mimetype": "text/x-python",
   "name": "python",
   "nbconvert_exporter": "python",
   "pygments_lexer": "ipython3",
   "version": "3.6.5"
  }
 },
 "nbformat": 4,
 "nbformat_minor": 2
}
