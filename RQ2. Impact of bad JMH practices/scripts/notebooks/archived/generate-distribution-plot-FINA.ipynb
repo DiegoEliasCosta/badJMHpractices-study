{
 "cells": [
  {
   "cell_type": "code",
   "execution_count": 1,
   "metadata": {},
   "outputs": [],
   "source": [
    "import pandas as pd\n",
    "import os"
   ]
  },
  {
   "cell_type": "code",
   "execution_count": 2,
   "metadata": {},
   "outputs": [],
   "source": [
    "folder = '../../results/'\n",
    "\n",
    "figs = os.path.join(folder, 'figs')\n",
    "file = os.path.join(folder, 'summarized-results.csv')\n",
    "\n",
    "df = pd.read_csv(file)\n",
    "\n",
    "category = 'FINA'"
   ]
  },
  {
   "cell_type": "code",
   "execution_count": 3,
   "metadata": {},
   "outputs": [],
   "source": [
    "df_invo = df[df.Experiment == category]"
   ]
  },
  {
   "cell_type": "code",
   "execution_count": 4,
   "metadata": {},
   "outputs": [
    {
     "data": {
      "text/plain": [
       "0     1.011060\n",
       "1     1.012603\n",
       "2    -1.037631\n",
       "3     1.003028\n",
       "4     0.000000\n",
       "18    0.000000\n",
       "19   -1.079905\n",
       "Name: New Factor, dtype: float64"
      ]
     },
     "execution_count": 4,
     "metadata": {},
     "output_type": "execute_result"
    },
    {
     "data": {
      "image/png": "[encoded data removed]",
      "text/plain": [
       "<Figure size 432x288 with 1 Axes>"
      ]
     },
     "metadata": {},
     "output_type": "display_data"
    }
   ],
   "source": [
    "%matplotlib inline\n",
    "import seaborn as sns\n",
    "import matplotlib.pyplot as plt\n",
    "import matplotlib.ticker as ticker\n",
    "sns.set(font_scale=1)\n",
    "sns.set_style(\"ticks\")\n",
    "\n",
    "ax = sns.distplot(df_invo['New Factor'], kde=False, hist=True)\n",
    "\n",
    "ax.set(xlabel='Impact Factor', ylabel='# Benchmark Versions',)\n",
    "df_invo['New Factor']"
   ]
  },
  {
   "cell_type": "markdown",
   "metadata": {},
   "source": [
    "### Normalize Colors"
   ]
  },
  {
   "cell_type": "code",
   "execution_count": 5,
   "metadata": {},
   "outputs": [
    {
     "data": {
      "image/png": "[encoded data removed]",
      "text/plain": [
       "<Figure size 216x72 with 1 Axes>"
      ]
     },
     "metadata": {},
     "output_type": "display_data"
    }
   ],
   "source": [
    "colors = sns.color_palette(\"coolwarm\", 10)[3:6]  # No considerable effect \n",
    "sns.palplot(colors)"
   ]
  },
  {
   "cell_type": "code",
   "execution_count": 6,
   "metadata": {
    "scrolled": true
   },
   "outputs": [
    {
     "name": "stdout",
     "output_type": "stream",
     "text": [
      "(-2, -1]    2\n",
      "(-1, 1]     2\n",
      "(1, 2]      3\n",
      "Name: New Factor, dtype: int64\n"
     ]
    },
    {
     "name": "stderr",
     "output_type": "stream",
     "text": [
      "C:\\Users\\diego\\Anaconda3\\lib\\site-packages\\matplotlib\\figure.py:2267: UserWarning: This figure includes Axes that are not compatible with tight_layout, so results might be incorrect.\n",
      "  warnings.warn(\"This figure includes Axes that are not compatible \"\n"
     ]
    },
    {
     "data": {
      "image/png": "[encoded data removed]",
      "text/plain": [
       "<Figure size 288x288 with 1 Axes>"
      ]
     },
     "metadata": {},
     "output_type": "display_data"
    }
   ],
   "source": [
    "%matplotlib inline\n",
    "sns.set(font_scale=1.4)\n",
    "sns.set_style(\"ticks\")\n",
    "import math\n",
    "\n",
    "from matplotlib import rcParams\n",
    "rcParams.update({'figure.autolayout': True})\n",
    "\n",
    "\n",
    "clrs = 'seismic'\n",
    "clrs = 'coolwarm'\n",
    "clrs = 'Reds'\n",
    "clrs = 'coolwarm'\n",
    "\n",
    "\n",
    "def plot_binning_distro(df, identifier):   \n",
    "    min_val = math.floor(df['New Factor'].min()) \n",
    "    max_val = int(df['New Factor'].max()) + 1  # \n",
    "\n",
    "    \n",
    "    bins=[-2,-1,1,2]\n",
    "    \n",
    "    binned_df = pd.cut(df['New Factor'], bins=bins).value_counts()\n",
    "    # Sort first\n",
    "    binned_df = binned_df.sort_index()\n",
    "    \n",
    "    print(binned_df)\n",
    "    plt.figure(figsize=(len(bins) * 1 ,4)) \n",
    "    plt.xticks(fontsize=11)\n",
    "    \n",
    "    ax = sns.barplot(x=binned_df.index, y=binned_df, palette=colors)\n",
    "    ax.set(xlabel='Impact Factor Interval', ylabel='# Benchmark Instances')\n",
    "\n",
    "    new_intervals = binned_df.index\n",
    "    ax.xaxis.set_major_formatter(ticker.FixedFormatter(new_intervals))\n",
    "\n",
    "    figname = 'distribution-impact-%s.pdf' % identifier\n",
    "\n",
    "    plt.savefig(os.path.join(figs, figname))\n",
    "    #plt.clf()\n",
    "\n",
    "plot_binning_distro(df_invo, category)"
   ]
  },
  {
   "cell_type": "markdown",
   "metadata": {},
   "source": [
    "### Violinplot"
   ]
  },
  {
   "cell_type": "markdown",
   "metadata": {},
   "source": [
    "### Generate Table"
   ]
  },
  {
   "cell_type": "code",
   "execution_count": 31,
   "metadata": {},
   "outputs": [
    {
     "name": "stdout",
     "output_type": "stream",
     "text": [
      "\\begin{tabular}{lrrrrrr}\n",
      "\\toprule\n",
      "{} &  Bench Impacted &  Total Bench &  \\% Bench &  Versions Impacted &  Total Versions &  \\% Version \\\\\n",
      "Project &                 &              &          &                    &                 &            \\\\\n",
      "\\midrule\n",
      "log4j2  &             4.0 &          5.0 &     80.0 &                4.0 &             5.0 &       80.0 \\\\\n",
      "netty   &             1.0 &          2.0 &     50.0 &                1.0 &             2.0 &       50.0 \\\\\n",
      "Total   &             5.0 &          7.0 &    130.0 &                5.0 &             7.0 &      130.0 \\\\\n",
      "\\bottomrule\n",
      "\\end{tabular}\n",
      "\n"
     ]
    }
   ],
   "source": [
    "\n",
    "def analyze_bench_test(test):\n",
    "    impacted = len(test[test['New Factor'].abs() > 1.00])\n",
    "    total = len(test)\n",
    "\n",
    "    return pd.Series({'Impacted': impacted, 'Total':total})\n",
    "    \n",
    "def analyze_project(proj):\n",
    "    \n",
    "    result = proj.groupby(by=['Class','Method']).apply(analyze_bench_test)\n",
    "    \n",
    "    versions_impacted = result['Impacted'].sum()\n",
    "    total_versions = result['Total'].sum()\n",
    "    \n",
    "    bench_impacted = len(result[result['Impacted'] > 0])\n",
    "    total_bench = len(result)\n",
    "    \n",
    "    return pd.Series({'Bench Impacted': bench_impacted, 'Total Bench': total_bench, \n",
    "                      '% Bench': bench_impacted / total_bench * 100,\n",
    "        'Versions Impacted': versions_impacted, 'Total Versions': total_versions,\n",
    "                     '% Version': versions_impacted / total_versions * 100})\n",
    "\n",
    "\n",
    "\n",
    "\n",
    "\n",
    "table = df_invo.groupby(by='Project').apply(analyze_project)\n",
    "\n",
    "\n",
    "table = table[['Bench Impacted', 'Total Bench', '% Bench', 'Versions Impacted', 'Total Versions','% Version']]\n",
    "table.loc['Total'] = table.sum()\n",
    "\n",
    "print(table.to_latex())\n"
   ]
  },
  {
   "cell_type": "code",
   "execution_count": 17,
   "metadata": {},
   "outputs": [
    {
     "data": {
      "text/plain": [
       "Bench Impacted         2.0\n",
       "Total Bench            4.0\n",
       "% Bench              100.0\n",
       "Versions Impacted      2.0\n",
       "Total Versions         4.0\n",
       "% Version            100.0\n",
       "dtype: float64"
      ]
     },
     "execution_count": 17,
     "metadata": {},
     "output_type": "execute_result"
    }
   ],
   "source": [
    "table.sum(numeric_only=True)"
   ]
  },
  {
   "cell_type": "markdown",
   "metadata": {},
   "source": [
    "### Correlation with benchmark execution time"
   ]
  },
  {
   "cell_type": "code",
   "execution_count": null,
   "metadata": {
    "collapsed": true
   },
   "outputs": [],
   "source": []
  }
 ],
 "metadata": {
  "kernelspec": {
   "display_name": "Python 3",
   "language": "python",
   "name": "python3"
  },
  "language_info": {
   "codemirror_mode": {
    "name": "ipython",
    "version": 3
   },
   "file_extension": ".py",
   "mimetype": "text/x-python",
   "name": "python",
   "nbconvert_exporter": "python",
   "pygments_lexer": "ipython3",
   "version": "3.6.5"
  }
 },
 "nbformat": 4,
 "nbformat_minor": 2
}
