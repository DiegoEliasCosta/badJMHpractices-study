{
 "cells": [
  {
   "cell_type": "code",
   "execution_count": 12,
   "metadata": {},
   "outputs": [],
   "source": [
    "import pandas as pd\n",
    "import os\n",
    "import numpy as np\n",
    "import seaborn as sns"
   ]
  },
  {
   "cell_type": "code",
   "execution_count": 13,
   "metadata": {},
   "outputs": [],
   "source": [
    "folder = '../../results/'\n",
    "\n",
    "figs = os.path.join(folder, 'figs')\n",
    "file = os.path.join(folder, 'summarized-results.csv')\n",
    "\n",
    "df = pd.read_csv(file)\n",
    "\n",
    "categories = ['INVO', 'LOOP', 'FORK', 'RETU', 'FINA']\n"
   ]
  },
  {
   "cell_type": "markdown",
   "metadata": {},
   "source": [
    "### Generate Cliffs-Delta Table"
   ]
  },
  {
   "cell_type": "code",
   "execution_count": 14,
   "metadata": {},
   "outputs": [],
   "source": [
    "def analyze_tests(bench):\n",
    "    # Simply check whether there is an instance where Wilcoxon test showed\n",
    "    # significant difference\n",
    "    impacted = bench.query('Wilcoxom==True')\n",
    "    # print(impacted[\"Cliffs Delta d\"])\n",
    "    non_negligible = impacted[(impacted[\"Cliffs Delta d\"] >= 0.14) | (impacted[\"Cliffs Delta d\"] <= -0.14)]\n",
    "    # print(len(non_negligible))\n",
    "    return pd.Series({'Test Impacted': len(non_negligible) > 0, \n",
    "                      'Highest Cliff': impacted['Cliffs Delta d'].max(), \n",
    "                      'Median Cliff': impacted['Cliffs Delta d'].median()})\n",
    "    \n",
    "\n",
    "def analyze_project(proj):\n",
    "        \n",
    "    instances_total = len(proj)\n",
    "    instances_not_impacted = len(proj.query('Wilcoxom==False'))\n",
    "    instances_impacted = len(proj.query('Wilcoxom==True'))\n",
    "    instances_deltas = proj.query('Wilcoxom==True')['Cliffs Delta Size'].value_counts()\n",
    "    \n",
    "    if 'negligible' not in instances_deltas:\n",
    "        instances_deltas['negligible'] = 0\n",
    "    if 'medium' not in instances_deltas:\n",
    "        instances_deltas['medium'] = 0\n",
    "    \n",
    "    \n",
    "    tests = proj.groupby(['Class', 'Method']).apply(analyze_tests)\n",
    "    tests_impacted = len(tests[tests['Test Impacted'] == True])\n",
    "    tests_total = len(tests)\n",
    "    large = len(tests[tests['Highest Cliff'].abs() > 0.47])\n",
    "    medium = len(tests[(tests['Highest Cliff'].abs() > 0.33) & (tests['Highest Cliff'].abs() < 0.47)])\n",
    "    small = len(tests[(tests['Highest Cliff'].abs() > 0.147) & (tests['Highest Cliff'].abs() < 0.33)])\n",
    "    negligible = len(tests[tests['Highest Cliff'].abs() < 0.147])\n",
    "    \n",
    "    result = {'Tests Impacted': '%d/%d' % (tests_impacted, tests_total),\n",
    "              'Tests Impacted %': tests_impacted / tests_total * 100.0, \n",
    "              'Tests Large': large,\n",
    "              'Tests Medium': medium,\n",
    "              'Tests Small': small,\n",
    "              'Tests Neglig': negligible,\n",
    "              'Instances Impacted': '%d/%d' % (instances_impacted, instances_total),\n",
    "              'Instances Impacted %': instances_impacted / instances_total * 100.0}\n",
    "    # Cliff-deltas\n",
    "    result.update(instances_deltas)\n",
    "    return pd.Series(data=result)\n",
    "       \n",
    "pd.options.display.float_format = '{:,.1f}'.format    \n",
    "\n",
    "column_order = ['Tests Impacted', 'Tests Impacted %',  'Instances Impacted', 'Instances Impacted %',\n",
    "                'negligible', 'small', 'medium', 'large']\n",
    "column_order = ['Tests Impacted', 'Tests Impacted %',  'Tests Large', 'Tests Medium',\n",
    "                'Tests Small', 'Tests Neglig']\n",
    "\n",
    "def print_table(df, category):\n",
    "    \n",
    "    df_cat = df.query('Experiment == @category')    \n",
    "    table = df_cat.groupby(by='Project').apply(analyze_project)\n",
    "    \n",
    "    table = table.replace({'negligible': 'N', \n",
    "                           'small': 'S',\n",
    "                           'medium': 'M',\n",
    "                           'large': 'L'})\n",
    "\n",
    "    table = table.unstack(1)\n",
    "    table = table.fillna('')\n",
    "    #table.loc['Total'] = table.sum()\n",
    "    \n",
    "    print(table[column_order].to_latex())\n"
   ]
  },
  {
   "cell_type": "code",
   "execution_count": 15,
   "metadata": {},
   "outputs": [
    {
     "name": "stdout",
     "output_type": "stream",
     "text": [
      "\\begin{tabular}{llrrrrr}\n",
      "\\toprule\n",
      "{} & Tests Impacted &  Tests Impacted \\% &  Tests Large &  Tests Medium &  Tests Small &  Tests Neglig \\\\\n",
      "Project &                &                   &              &               &              &               \\\\\n",
      "\\midrule\n",
      "druid   &            2/3 &              66.7 &            2 &             0 &            0 &             0 \\\\\n",
      "h2o-3   &            6/6 &             100.0 &            2 &             2 &            2 &             0 \\\\\n",
      "netty   &          16/16 &             100.0 &           15 &             1 &            0 &             0 \\\\\n",
      "\\bottomrule\n",
      "\\end{tabular}\n",
      "\n"
     ]
    }
   ],
   "source": [
    "print_table(df, 'INVO')"
   ]
  },
  {
   "cell_type": "code",
   "execution_count": 16,
   "metadata": {},
   "outputs": [
    {
     "name": "stdout",
     "output_type": "stream",
     "text": [
      "\\begin{tabular}{llrrrrr}\n",
      "\\toprule\n",
      "{} & Tests Impacted &  Tests Impacted \\% &  Tests Large &  Tests Medium &  Tests Small &  Tests Neglig \\\\\n",
      "Project &                &                   &              &               &              &               \\\\\n",
      "\\midrule\n",
      "druid   &            6/8 &              75.0 &            5 &             1 &            0 &             0 \\\\\n",
      "log4j2  &            7/7 &             100.0 &            4 &             2 &            1 &             0 \\\\\n",
      "netty   &          10/10 &             100.0 &           10 &             0 &            0 &             0 \\\\\n",
      "\\bottomrule\n",
      "\\end{tabular}\n",
      "\n"
     ]
    }
   ],
   "source": [
    "print_table(df, 'LOOP')"
   ]
  },
  {
   "cell_type": "code",
   "execution_count": 17,
   "metadata": {},
   "outputs": [
    {
     "name": "stdout",
     "output_type": "stream",
     "text": [
      "\\begin{tabular}{lll}\n",
      "\\toprule\n",
      "             &       &     0 \\\\\n",
      "{} & Project &       \\\\\n",
      "\\midrule\n",
      "Tests Impacted & pgdbc &   5/5 \\\\\n",
      "Tests Impacted \\% & pgdbc & 100.0 \\\\\n",
      "Tests Large & pgdbc &     5 \\\\\n",
      "Tests Medium & pgdbc &     0 \\\\\n",
      "Tests Small & pgdbc &     0 \\\\\n",
      "Tests Neglig & pgdbc &     0 \\\\\n",
      "\\bottomrule\n",
      "\\end{tabular}\n",
      "\n"
     ]
    }
   ],
   "source": [
    "print_table(df, 'FORK')"
   ]
  },
  {
   "cell_type": "code",
   "execution_count": 18,
   "metadata": {},
   "outputs": [
    {
     "name": "stdout",
     "output_type": "stream",
     "text": [
      "\\begin{tabular}{llrrrrr}\n",
      "\\toprule\n",
      "{} & Tests Impacted &  Tests Impacted \\% &  Tests Large &  Tests Medium &  Tests Small &  Tests Neglig \\\\\n",
      "Project        &                &                   &              &               &              &               \\\\\n",
      "\\midrule\n",
      "gs-collections &           9/37 &              24.3 &            8 &             1 &            0 &             0 \\\\\n",
      "log4j2         &            5/5 &             100.0 &            4 &             0 &            1 &             0 \\\\\n",
      "netty          &            1/1 &             100.0 &            1 &             0 &            0 &             0 \\\\\n",
      "\\bottomrule\n",
      "\\end{tabular}\n",
      "\n"
     ]
    }
   ],
   "source": [
    "print_table(df, 'RETU')"
   ]
  },
  {
   "cell_type": "code",
   "execution_count": 19,
   "metadata": {},
   "outputs": [
    {
     "name": "stdout",
     "output_type": "stream",
     "text": [
      "\\begin{tabular}{llrrrrr}\n",
      "\\toprule\n",
      "{} & Tests Impacted &  Tests Impacted \\% &  Tests Large &  Tests Medium &  Tests Small &  Tests Neglig \\\\\n",
      "Project &                &                   &              &               &              &               \\\\\n",
      "\\midrule\n",
      "log4j2  &            4/5 &              80.0 &            0 &             0 &            4 &             0 \\\\\n",
      "netty   &            1/2 &              50.0 &            1 &             0 &            0 &             0 \\\\\n",
      "\\bottomrule\n",
      "\\end{tabular}\n",
      "\n"
     ]
    }
   ],
   "source": [
    "print_table(df, 'FINA')"
   ]
  },
  {
   "cell_type": "markdown",
   "metadata": {},
   "source": [
    "### Plot the Clifs-Delta D values"
   ]
  },
  {
   "cell_type": "code",
   "execution_count": 20,
   "metadata": {},
   "outputs": [],
   "source": [
    "colors = sns.color_palette('coolwarm', 11)\n",
    "\n",
    "colors = [(0.32860444731764704, 0.43971182997647057, 0.8695872625411765),\n",
    " (0.4358148063058824, 0.5707073031529412, 0.951717381282353),\n",
    " (0.5543118699137254, 0.6900970112156862, 0.9955155482352941),\n",
    " (0.6672529243333334, 0.7791764569999999, 0.992959213),\n",
    " (0.7727059486039215, 0.8389782172392156, 0.9493187599137255),\n",
    " (0.8674276350862745, 0.864376599772549, 0.8626024620196079),\n",
    " (0.8674276350862745, 0.864376599772549, 0.8626024620196079),\n",
    " (0.9383263563333333, 0.8089165520313726, 0.741161515027451),\n",
    " (0.968203399, 0.7208441, 0.6122929913333334),\n",
    " (0.9566532109764706, 0.598033822717647, 0.4773022923529412),\n",
    " (0.9057834780117647, 0.4551856921647059, 0.35533588384705883),\n",
    " (0.8204010983882353, 0.2867649126352941, 0.2451595198)]\n"
   ]
  },
  {
   "cell_type": "code",
   "execution_count": 21,
   "metadata": {},
   "outputs": [],
   "source": [
    "%matplotlib inline\n",
    "sns.set(font_scale=1.4)\n",
    "sns.set_style(\"ticks\")\n",
    "\n",
    "import numpy as np\n",
    "import seaborn as sns\n",
    "import matplotlib.pyplot as plt\n",
    "import matplotlib.ticker as ticker\n",
    "from matplotlib import rcParams\n",
    "rcParams.update({'figure.autolayout': True})\n",
    "\n",
    "\n",
    "\n",
    "def normalize_d(df):\n",
    "    \n",
    "    if df['Benchmark Mode'] == 'Throughput, ops/time':\n",
    "        return df['Cliffs Delta d']\n",
    "    else:\n",
    "        return df['Cliffs Delta d'] * -1\n",
    "\n",
    "def plot_dsizes(df, category):\n",
    "\n",
    "    bins=np.array([-10,-8,-6,-4,-2,-1.4,0,1.4,2,4,6,8,10])\n",
    "    bins = bins/10\n",
    "    \n",
    "    print(bins)\n",
    "       \n",
    "    df['Cliffs Delta d norm'] = df.apply(normalize_d, axis=1)\n",
    "    binned_df = pd.cut(df['Cliffs Delta d norm'], bins=bins, precision=1).value_counts()\n",
    "    # Sort first\n",
    "    binned_df = binned_df.sort_index()\n",
    "    print(binned_df)\n",
    "    \n",
    "    x_ticks = ['%.1f' % x for x in bins]\n",
    "    print(x_ticks)\n",
    "    \n",
    "    fig = plt.figure(figsize=(7,3.5))\n",
    "    plt.xticks(fontsize=11)\n",
    "    \n",
    "    ax = sns.barplot(x=binned_df.index, y=binned_df, palette=colors)\n",
    "    ax.set(xlabel=\"Cliff's delta\", ylabel='# Benchmark Instances')\n",
    "    ax.xaxis.set_major_formatter(ticker.FixedFormatter(x_ticks))\n",
    "\n",
    "    plt.tight_layout()\n",
    "    #plt.savefig(os.path.join(figs, 'distribution-deltas-%s.pdf' % category))\n",
    "    "
   ]
  },
  {
   "cell_type": "code",
   "execution_count": 22,
   "metadata": {},
   "outputs": [
    {
     "name": "stdout",
     "output_type": "stream",
     "text": [
      "[-1.   -0.8  -0.6  -0.4  -0.2  -0.14  0.    0.14  0.2   0.4   0.6   0.8\n",
      "  1.  ]\n",
      "(-1.0, -0.8]     1\n",
      "(-0.8, -0.6]     1\n",
      "(-0.6, -0.4]     1\n",
      "(-0.4, -0.2]     1\n",
      "(-0.2, -0.1]     0\n",
      "(-0.1, 0.0]      5\n",
      "(0.0, 0.1]       0\n",
      "(0.1, 0.2]       0\n",
      "(0.2, 0.4]       7\n",
      "(0.4, 0.6]       5\n",
      "(0.6, 0.8]       5\n",
      "(0.8, 1.0]      56\n",
      "Name: Cliffs Delta d norm, dtype: int64\n",
      "['-1.0', '-0.8', '-0.6', '-0.4', '-0.2', '-0.1', '0.0', '0.1', '0.2', '0.4', '0.6', '0.8', '1.0']\n"
     ]
    },
    {
     "name": "stderr",
     "output_type": "stream",
     "text": [
      "C:\\Users\\diego\\Anaconda3\\lib\\site-packages\\ipykernel_launcher.py:28: SettingWithCopyWarning: \n",
      "A value is trying to be set on a copy of a slice from a DataFrame.\n",
      "Try using .loc[row_indexer,col_indexer] = value instead\n",
      "\n",
      "See the caveats in the documentation: http://pandas.pydata.org/pandas-docs/stable/indexing.html#indexing-view-versus-copy\n",
      "C:\\Users\\diego\\Anaconda3\\lib\\site-packages\\matplotlib\\figure.py:2267: UserWarning: This figure includes Axes that are not compatible with tight_layout, so results might be incorrect.\n",
      "  warnings.warn(\"This figure includes Axes that are not compatible \"\n"
     ]
    },
    {
     "data": {
      "image/png": "[encoded data removed]",
      "text/plain": [
       "<Figure size 504x252 with 1 Axes>"
      ]
     },
     "metadata": {},
     "output_type": "display_data"
    }
   ],
   "source": [
    "loop = df_cat = df.query('Experiment == \"LOOP\"')\n",
    "\n",
    "plot_dsizes(loop, 'LOOP')"
   ]
  },
  {
   "cell_type": "code",
   "execution_count": 23,
   "metadata": {},
   "outputs": [
    {
     "name": "stderr",
     "output_type": "stream",
     "text": [
      "C:\\Users\\diego\\Anaconda3\\lib\\site-packages\\ipykernel_launcher.py:28: SettingWithCopyWarning: \n",
      "A value is trying to be set on a copy of a slice from a DataFrame.\n",
      "Try using .loc[row_indexer,col_indexer] = value instead\n",
      "\n",
      "See the caveats in the documentation: http://pandas.pydata.org/pandas-docs/stable/indexing.html#indexing-view-versus-copy\n"
     ]
    },
    {
     "name": "stdout",
     "output_type": "stream",
     "text": [
      "24\n",
      "128\n",
      "[-1.   -0.8  -0.6  -0.4  -0.2  -0.14  0.    0.14  0.2   0.4   0.6   0.8\n",
      "  1.  ]\n",
      "(-1.0, -0.8]    15\n",
      "(-0.8, -0.6]     3\n",
      "(-0.6, -0.4]     2\n",
      "(-0.4, -0.2]     1\n",
      "(-0.2, -0.1]     0\n",
      "(-0.1, 0.0]      0\n",
      "(0.0, 0.1]       1\n",
      "(0.1, 0.2]       0\n",
      "(0.2, 0.4]       0\n",
      "(0.4, 0.6]       0\n",
      "(0.6, 0.8]       0\n",
      "(0.8, 1.0]       1\n",
      "Name: Cliffs Delta d norm, dtype: int64\n",
      "['-1.0', '-0.8', '-0.6', '-0.4', '-0.2', '-0.1', '0.0', '0.1', '0.2', '0.4', '0.6', '0.8', '1.0']\n",
      "[-1.   -0.8  -0.6  -0.4  -0.2  -0.14  0.    0.14  0.2   0.4   0.6   0.8\n",
      "  1.  ]\n",
      "(-1.0, -0.8]    18\n",
      "(-0.8, -0.6]     2\n",
      "(-0.6, -0.4]     3\n",
      "(-0.4, -0.2]     5\n",
      "(-0.2, -0.1]     3\n",
      "(-0.1, 0.0]     18\n",
      "(0.0, 0.1]      23\n",
      "(0.1, 0.2]       4\n",
      "(0.2, 0.4]      15\n",
      "(0.4, 0.6]       2\n",
      "(0.6, 0.8]       1\n",
      "(0.8, 1.0]       1\n",
      "Name: Cliffs Delta d norm, dtype: int64\n",
      "['-1.0', '-0.8', '-0.6', '-0.4', '-0.2', '-0.1', '0.0', '0.1', '0.2', '0.4', '0.6', '0.8', '1.0']\n"
     ]
    },
    {
     "name": "stderr",
     "output_type": "stream",
     "text": [
      "C:\\Users\\diego\\Anaconda3\\lib\\site-packages\\ipykernel_launcher.py:28: SettingWithCopyWarning: \n",
      "A value is trying to be set on a copy of a slice from a DataFrame.\n",
      "Try using .loc[row_indexer,col_indexer] = value instead\n",
      "\n",
      "See the caveats in the documentation: http://pandas.pydata.org/pandas-docs/stable/indexing.html#indexing-view-versus-copy\n",
      "C:\\Users\\diego\\Anaconda3\\lib\\site-packages\\matplotlib\\figure.py:2267: UserWarning: This figure includes Axes that are not compatible with tight_layout, so results might be incorrect.\n",
      "  warnings.warn(\"This figure includes Axes that are not compatible \"\n"
     ]
    },
    {
     "data": {
      "image/png": "[encoded data removed]",
      "text/plain": [
       "<Figure size 504x252 with 1 Axes>"
      ]
     },
     "metadata": {},
     "output_type": "display_data"
    },
    {
     "name": "stderr",
     "output_type": "stream",
     "text": [
      "C:\\Users\\diego\\Anaconda3\\lib\\site-packages\\matplotlib\\figure.py:2267: UserWarning: This figure includes Axes that are not compatible with tight_layout, so results might be incorrect.\n",
      "  warnings.warn(\"This figure includes Axes that are not compatible \"\n"
     ]
    },
    {
     "data": {
      "image/png": "[encoded data removed]",
      "text/plain": [
       "<Figure size 504x252 with 1 Axes>"
      ]
     },
     "metadata": {},
     "output_type": "display_data"
    }
   ],
   "source": [
    "affected = ['httpAddAllFast', 'http2AddAllFastest', 'http2AddAllFast', 'http2AddAllSlow'] \n",
    "directly_affected = df.query('Method in @affected and Experiment == \"INVO\"')\n",
    "not_directly_affected = df.query('Method not in @affected and Experiment == \"INVO\"')\n",
    "\n",
    "print(len(directly_affected))\n",
    "print(len(not_directly_affected))\n",
    "\n",
    "plot_dsizes(directly_affected, 'INVO-directly')\n",
    "plot_dsizes(not_directly_affected, 'INVO-indirectly')"
   ]
  },
  {
   "cell_type": "code",
   "execution_count": 24,
   "metadata": {},
   "outputs": [
    {
     "name": "stderr",
     "output_type": "stream",
     "text": [
      "C:\\Users\\diego\\Anaconda3\\lib\\site-packages\\ipykernel_launcher.py:28: SettingWithCopyWarning: \n",
      "A value is trying to be set on a copy of a slice from a DataFrame.\n",
      "Try using .loc[row_indexer,col_indexer] = value instead\n",
      "\n",
      "See the caveats in the documentation: http://pandas.pydata.org/pandas-docs/stable/indexing.html#indexing-view-versus-copy\n"
     ]
    },
    {
     "name": "stdout",
     "output_type": "stream",
     "text": [
      "[-1.   -0.8  -0.6  -0.4  -0.2  -0.14  0.    0.14  0.2   0.4   0.6   0.8\n",
      "  1.  ]\n",
      "(-1.0, -0.8]    5\n",
      "(-0.8, -0.6]    0\n",
      "(-0.6, -0.4]    0\n",
      "(-0.4, -0.2]    0\n",
      "(-0.2, -0.1]    0\n",
      "(-0.1, 0.0]     0\n",
      "(0.0, 0.1]      0\n",
      "(0.1, 0.2]      0\n",
      "(0.2, 0.4]      0\n",
      "(0.4, 0.6]      0\n",
      "(0.6, 0.8]      0\n",
      "(0.8, 1.0]      1\n",
      "Name: Cliffs Delta d norm, dtype: int64\n",
      "['-1.0', '-0.8', '-0.6', '-0.4', '-0.2', '-0.1', '0.0', '0.1', '0.2', '0.4', '0.6', '0.8', '1.0']\n"
     ]
    },
    {
     "name": "stderr",
     "output_type": "stream",
     "text": [
      "C:\\Users\\diego\\Anaconda3\\lib\\site-packages\\matplotlib\\figure.py:2267: UserWarning: This figure includes Axes that are not compatible with tight_layout, so results might be incorrect.\n",
      "  warnings.warn(\"This figure includes Axes that are not compatible \"\n"
     ]
    },
    {
     "data": {
      "image/png": "[encoded data removed]",
      "text/plain": [
       "<Figure size 504x252 with 1 Axes>"
      ]
     },
     "metadata": {},
     "output_type": "display_data"
    }
   ],
   "source": [
    "affected = ['httpAddAllFast'] \n",
    "\n",
    "httpaddallfast = df.query('Method in @affected and Experiment == \"INVO\"')\n",
    "\n",
    "plot_dsizes(httpaddallfast, 'httpaddallfast')"
   ]
  },
  {
   "cell_type": "code",
   "execution_count": 25,
   "metadata": {},
   "outputs": [
    {
     "name": "stderr",
     "output_type": "stream",
     "text": [
      "C:\\Users\\diego\\Anaconda3\\lib\\site-packages\\ipykernel_launcher.py:28: SettingWithCopyWarning: \n",
      "A value is trying to be set on a copy of a slice from a DataFrame.\n",
      "Try using .loc[row_indexer,col_indexer] = value instead\n",
      "\n",
      "See the caveats in the documentation: http://pandas.pydata.org/pandas-docs/stable/indexing.html#indexing-view-versus-copy\n"
     ]
    },
    {
     "name": "stdout",
     "output_type": "stream",
     "text": [
      "[-1.   -0.8  -0.6  -0.4  -0.2  -0.14  0.    0.14  0.2   0.4   0.6   0.8\n",
      "  1.  ]\n",
      "(-1.0, -0.8]    5\n",
      "(-0.8, -0.6]    0\n",
      "(-0.6, -0.4]    0\n",
      "(-0.4, -0.2]    0\n",
      "(-0.2, -0.1]    0\n",
      "(-0.1, 0.0]     0\n",
      "(0.0, 0.1]      0\n",
      "(0.1, 0.2]      0\n",
      "(0.2, 0.4]      0\n",
      "(0.4, 0.6]      0\n",
      "(0.6, 0.8]      0\n",
      "(0.8, 1.0]      1\n",
      "Name: Cliffs Delta d norm, dtype: int64\n",
      "['-1.0', '-0.8', '-0.6', '-0.4', '-0.2', '-0.1', '0.0', '0.1', '0.2', '0.4', '0.6', '0.8', '1.0']\n"
     ]
    },
    {
     "name": "stderr",
     "output_type": "stream",
     "text": [
      "C:\\Users\\diego\\Anaconda3\\lib\\site-packages\\matplotlib\\figure.py:2267: UserWarning: This figure includes Axes that are not compatible with tight_layout, so results might be incorrect.\n",
      "  warnings.warn(\"This figure includes Axes that are not compatible \"\n"
     ]
    },
    {
     "data": {
      "image/png": "[encoded data removed]",
      "text/plain": [
       "<Figure size 504x252 with 1 Axes>"
      ]
     },
     "metadata": {},
     "output_type": "display_data"
    }
   ],
   "source": [
    "affected = ['httpAddAllFast'] \n",
    "httpaddallfast = df.query('Method in @affected and Experiment == \"INVO\"')\n",
    "\n",
    "plot_dsizes(httpaddallfast, 'httpaddallfast')"
   ]
  },
  {
   "cell_type": "code",
   "execution_count": 26,
   "metadata": {},
   "outputs": [
    {
     "name": "stderr",
     "output_type": "stream",
     "text": [
      "C:\\Users\\diego\\Anaconda3\\lib\\site-packages\\ipykernel_launcher.py:28: SettingWithCopyWarning: \n",
      "A value is trying to be set on a copy of a slice from a DataFrame.\n",
      "Try using .loc[row_indexer,col_indexer] = value instead\n",
      "\n",
      "See the caveats in the documentation: http://pandas.pydata.org/pandas-docs/stable/indexing.html#indexing-view-versus-copy\n"
     ]
    },
    {
     "name": "stdout",
     "output_type": "stream",
     "text": [
      "[-1.   -0.8  -0.6  -0.4  -0.2  -0.14  0.    0.14  0.2   0.4   0.6   0.8\n",
      "  1.  ]\n",
      "(-1.0, -0.8]    5\n",
      "(-0.8, -0.6]    0\n",
      "(-0.6, -0.4]    0\n",
      "(-0.4, -0.2]    0\n",
      "(-0.2, -0.1]    0\n",
      "(-0.1, 0.0]     0\n",
      "(0.0, 0.1]      0\n",
      "(0.1, 0.2]      0\n",
      "(0.2, 0.4]      0\n",
      "(0.4, 0.6]      0\n",
      "(0.6, 0.8]      0\n",
      "(0.8, 1.0]      1\n",
      "Name: Cliffs Delta d norm, dtype: int64\n",
      "['-1.0', '-0.8', '-0.6', '-0.4', '-0.2', '-0.1', '0.0', '0.1', '0.2', '0.4', '0.6', '0.8', '1.0']\n"
     ]
    },
    {
     "name": "stderr",
     "output_type": "stream",
     "text": [
      "C:\\Users\\diego\\Anaconda3\\lib\\site-packages\\matplotlib\\figure.py:2267: UserWarning: This figure includes Axes that are not compatible with tight_layout, so results might be incorrect.\n",
      "  warnings.warn(\"This figure includes Axes that are not compatible \"\n"
     ]
    },
    {
     "data": {
      "image/png": "[encoded data removed]",
      "text/plain": [
       "<Figure size 504x252 with 1 Axes>"
      ]
     },
     "metadata": {},
     "output_type": "display_data"
    }
   ],
   "source": [
    "affected = ['httpAddAllFast'] \n",
    "httpaddallfast = df.query('Method in @affected and Experiment == \"INVO\"')\n",
    "\n",
    "plot_dsizes(httpaddallfast, 'httpaddallfast')"
   ]
  },
  {
   "cell_type": "code",
   "execution_count": 27,
   "metadata": {},
   "outputs": [
    {
     "name": "stderr",
     "output_type": "stream",
     "text": [
      "C:\\Users\\diego\\Anaconda3\\lib\\site-packages\\ipykernel_launcher.py:28: SettingWithCopyWarning: \n",
      "A value is trying to be set on a copy of a slice from a DataFrame.\n",
      "Try using .loc[row_indexer,col_indexer] = value instead\n",
      "\n",
      "See the caveats in the documentation: http://pandas.pydata.org/pandas-docs/stable/indexing.html#indexing-view-versus-copy\n"
     ]
    },
    {
     "name": "stdout",
     "output_type": "stream",
     "text": [
      "[-1.   -0.8  -0.6  -0.4  -0.2  -0.14  0.    0.14  0.2   0.4   0.6   0.8\n",
      "  1.  ]\n",
      "(-1.0, -0.8]    0\n",
      "(-0.8, -0.6]    0\n",
      "(-0.6, -0.4]    0\n",
      "(-0.4, -0.2]    0\n",
      "(-0.2, -0.1]    0\n",
      "(-0.1, 0.0]     0\n",
      "(0.0, 0.1]      0\n",
      "(0.1, 0.2]      0\n",
      "(0.2, 0.4]      0\n",
      "(0.4, 0.6]      0\n",
      "(0.6, 0.8]      0\n",
      "(0.8, 1.0]      9\n",
      "Name: Cliffs Delta d norm, dtype: int64\n",
      "['-1.0', '-0.8', '-0.6', '-0.4', '-0.2', '-0.1', '0.0', '0.1', '0.2', '0.4', '0.6', '0.8', '1.0']\n"
     ]
    },
    {
     "name": "stderr",
     "output_type": "stream",
     "text": [
      "C:\\Users\\diego\\Anaconda3\\lib\\site-packages\\matplotlib\\figure.py:2267: UserWarning: This figure includes Axes that are not compatible with tight_layout, so results might be incorrect.\n",
      "  warnings.warn(\"This figure includes Axes that are not compatible \"\n"
     ]
    },
    {
     "data": {
      "image/png": "[encoded data removed]",
      "text/plain": [
       "<Figure size 504x252 with 1 Axes>"
      ]
     },
     "metadata": {},
     "output_type": "display_data"
    }
   ],
   "source": [
    "fork = df.query('Experiment == \"FORK\"')\n",
    "\n",
    "plot_dsizes(fork, 'FORK')"
   ]
  },
  {
   "cell_type": "code",
   "execution_count": 28,
   "metadata": {},
   "outputs": [
    {
     "name": "stderr",
     "output_type": "stream",
     "text": [
      "C:\\Users\\diego\\Anaconda3\\lib\\site-packages\\ipykernel_launcher.py:28: SettingWithCopyWarning: \n",
      "A value is trying to be set on a copy of a slice from a DataFrame.\n",
      "Try using .loc[row_indexer,col_indexer] = value instead\n",
      "\n",
      "See the caveats in the documentation: http://pandas.pydata.org/pandas-docs/stable/indexing.html#indexing-view-versus-copy\n"
     ]
    },
    {
     "name": "stdout",
     "output_type": "stream",
     "text": [
      "[-1.   -0.8  -0.6  -0.4  -0.2  -0.14  0.    0.14  0.2   0.4   0.6   0.8\n",
      "  1.  ]\n",
      "(-1.0, -0.8]     0\n",
      "(-0.8, -0.6]     2\n",
      "(-0.6, -0.4]     4\n",
      "(-0.4, -0.2]    14\n",
      "(-0.2, -0.1]     4\n",
      "(-0.1, 0.0]     19\n",
      "(0.0, 0.1]       7\n",
      "(0.1, 0.2]       6\n",
      "(0.2, 0.4]       8\n",
      "(0.4, 0.6]       5\n",
      "(0.6, 0.8]       5\n",
      "(0.8, 1.0]      13\n",
      "Name: Cliffs Delta d norm, dtype: int64\n",
      "['-1.0', '-0.8', '-0.6', '-0.4', '-0.2', '-0.1', '0.0', '0.1', '0.2', '0.4', '0.6', '0.8', '1.0']\n"
     ]
    },
    {
     "name": "stderr",
     "output_type": "stream",
     "text": [
      "C:\\Users\\diego\\Anaconda3\\lib\\site-packages\\matplotlib\\figure.py:2267: UserWarning: This figure includes Axes that are not compatible with tight_layout, so results might be incorrect.\n",
      "  warnings.warn(\"This figure includes Axes that are not compatible \"\n"
     ]
    },
    {
     "data": {
      "image/png": "[encoded data removed]",
      "text/plain": [
       "<Figure size 504x252 with 1 Axes>"
      ]
     },
     "metadata": {},
     "output_type": "display_data"
    }
   ],
   "source": [
    "retu = df.query('Experiment == \"RETU\"')\n",
    "plot_dsizes(retu, 'RETU')"
   ]
  },
  {
   "cell_type": "code",
   "execution_count": 29,
   "metadata": {},
   "outputs": [
    {
     "name": "stderr",
     "output_type": "stream",
     "text": [
      "C:\\Users\\diego\\Anaconda3\\lib\\site-packages\\ipykernel_launcher.py:28: SettingWithCopyWarning: \n",
      "A value is trying to be set on a copy of a slice from a DataFrame.\n",
      "Try using .loc[row_indexer,col_indexer] = value instead\n",
      "\n",
      "See the caveats in the documentation: http://pandas.pydata.org/pandas-docs/stable/indexing.html#indexing-view-versus-copy\n"
     ]
    },
    {
     "name": "stdout",
     "output_type": "stream",
     "text": [
      "[-1.   -0.8  -0.6  -0.4  -0.2  -0.14  0.    0.14  0.2   0.4   0.6   0.8\n",
      "  1.  ]\n",
      "(-1.0, -0.8]    0\n",
      "(-0.8, -0.6]    0\n",
      "(-0.6, -0.4]    1\n",
      "(-0.4, -0.2]    1\n",
      "(-0.2, -0.1]    0\n",
      "(-0.1, 0.0]     1\n",
      "(0.0, 0.1]      1\n",
      "(0.1, 0.2]      2\n",
      "(0.2, 0.4]      1\n",
      "(0.4, 0.6]      0\n",
      "(0.6, 0.8]      0\n",
      "(0.8, 1.0]      0\n",
      "Name: Cliffs Delta d norm, dtype: int64\n",
      "['-1.0', '-0.8', '-0.6', '-0.4', '-0.2', '-0.1', '0.0', '0.1', '0.2', '0.4', '0.6', '0.8', '1.0']\n"
     ]
    },
    {
     "name": "stderr",
     "output_type": "stream",
     "text": [
      "C:\\Users\\diego\\Anaconda3\\lib\\site-packages\\matplotlib\\figure.py:2267: UserWarning: This figure includes Axes that are not compatible with tight_layout, so results might be incorrect.\n",
      "  warnings.warn(\"This figure includes Axes that are not compatible \"\n"
     ]
    },
    {
     "data": {
      "image/png": "[encoded data removed]",
      "text/plain": [
       "<Figure size 504x252 with 1 Axes>"
      ]
     },
     "metadata": {},
     "output_type": "display_data"
    }
   ],
   "source": [
    "fina = df.query('Experiment == \"FINA\"')\n",
    "plot_dsizes(fina, 'FINA')"
   ]
  }
 ],
 "metadata": {
  "kernelspec": {
   "display_name": "Python 3",
   "language": "python",
   "name": "python3"
  },
  "language_info": {
   "codemirror_mode": {
    "name": "ipython",
    "version": 3
   },
   "file_extension": ".py",
   "mimetype": "text/x-python",
   "name": "python",
   "nbconvert_exporter": "python",
   "pygments_lexer": "ipython3",
   "version": "3.6.5"
  }
 },
 "nbformat": 4,
 "nbformat_minor": 2
}
