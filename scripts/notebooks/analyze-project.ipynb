{
 "cells": [
  {
   "cell_type": "code",
   "execution_count": 100,
   "metadata": {
    "collapsed": true
   },
   "outputs": [],
   "source": [
    "import pandas as pd\n",
    "import os\n",
    "import matplotlib.pyplot as plt\n"
   ]
  },
  {
   "cell_type": "code",
   "execution_count": 169,
   "metadata": {
    "collapsed": true
   },
   "outputs": [],
   "source": [
    "exp_dir = '../../results'\n",
    "\n",
    "project = 'pgdbc'\n",
    "project = 'druid'\n",
    "\n",
    "antipatterns = [('LOOP', 'exp-LOOP-out'),\n",
    "                ('FINA', 'exp-FINA-out'),\n",
    "                ('RETU', 'exp-RETU-out'),\n",
    "                ('FORK', 'exp-FORK-out')]\n",
    "\n",
    "analysis = 'analysis'\n",
    "summary_file = 'summary.csv'"
   ]
  },
  {
   "cell_type": "code",
   "execution_count": 170,
   "metadata": {},
   "outputs": [
    {
     "name": "stderr",
     "output_type": "stream",
     "text": [
      "C:\\ProgramData\\Anaconda3\\lib\\site-packages\\pandas\\core\\frame.py:2352: SettingWithCopyWarning: \n",
      "A value is trying to be set on a copy of a slice from a DataFrame.\n",
      "Try using .loc[row_indexer,col_indexer] = value instead\n",
      "\n",
      "See the caveats in the documentation: http://pandas.pydata.org/pandas-docs/stable/indexing.html#indexing-view-versus-copy\n",
      "  self[k1] = value[k2]\n"
     ]
    }
   ],
   "source": [
    "# results = pd.DataFrame()\n",
    "pd.options.display.float_format = '{:.2f}'.format\n",
    "cm = sns.light_palette(\"orange\", as_cmap=True)\n",
    "\n",
    "def summarize_in_html(df, category):\n",
    "    \n",
    "    data = df[['Class', 'Method', 'Full params', 'Factor', 'Original', 'Fixed']]\n",
    "    data[numeric_cols] = data[numeric_cols].astype(float)\n",
    "    data = data.set_index(['Class', 'Method', 'Full params'])\n",
    "    data = data.sort_values(by='Factor', ascending=False)\n",
    "    s = data.style.background_gradient(subset=['Factor'], cmap=cm)\n",
    "    html = s.render()\n",
    "    html_file = os.path.join(exp_dir, project, category + '.html')\n",
    "                                 \n",
    "    with open(html_file, 'w') as f:\n",
    "        f.write(html)\n",
    "    \n",
    "\n",
    "for category, directory in antipatterns:\n",
    "    file_path = os.path.join(exp_dir, project, directory, analysis, summary_file)\n",
    "    if os.path.exists(file_path):\n",
    "        df = pd.read_csv(file_path)\n",
    "        summarize_in_html(df, category)\n",
    "        \n",
    "results = results.sort_values(by='Factor', ascending=False)"
   ]
  },
  {
   "cell_type": "code",
   "execution_count": null,
   "metadata": {
    "collapsed": true
   },
   "outputs": [],
   "source": []
  }
 ],
 "metadata": {
  "kernelspec": {
   "display_name": "Python 3",
   "language": "python",
   "name": "python3"
  },
  "language_info": {
   "codemirror_mode": {
    "name": "ipython",
    "version": 3
   },
   "file_extension": ".py",
   "mimetype": "text/x-python",
   "name": "python",
   "nbconvert_exporter": "python",
   "pygments_lexer": "ipython3",
   "version": "3.6.3"
  }
 },
 "nbformat": 4,
 "nbformat_minor": 2
}
