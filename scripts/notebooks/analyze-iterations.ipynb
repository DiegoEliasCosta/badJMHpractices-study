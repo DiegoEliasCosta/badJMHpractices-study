{
 "cells": [
  {
   "cell_type": "code",
   "execution_count": 1,
   "metadata": {},
   "outputs": [],
   "source": [
    "import os\n",
    "import pandas as pd"
   ]
  },
  {
   "cell_type": "code",
   "execution_count": 2,
   "metadata": {},
   "outputs": [],
   "source": [
    "folder = \"../../results\"\n",
    "\n",
    "projects = ['log4j2', 'netty', 'okio', 'druid', 'pgdbc', 'h2o-3', 'gs-collections']\n",
    "\n",
    "experiments = ['FINA', 'LOOP', 'RETU', 'SETUP', 'INVO', 'FORK']\n",
    "\n",
    "versions = ['original', 'fixed_full']\n",
    "\n",
    "files = ['original-all.csv', 'fixed-all.csv']\n"
   ]
  },
  {
   "cell_type": "code",
   "execution_count": 3,
   "metadata": {},
   "outputs": [
    {
     "name": "stdout",
     "output_type": "stream",
     "text": [
      "Skipping the file ../../results\\log4j2\\exp-SETUP-out\\original\\original-all.csv\n",
      "Skipping the file ../../results\\log4j2\\exp-SETUP-out\\fixed_full\\fixed-all.csv\n",
      "Skipping the file ../../results\\log4j2\\exp-INVO-out\\original\\original-all.csv\n",
      "Skipping the file ../../results\\log4j2\\exp-INVO-out\\fixed_full\\fixed-all.csv\n",
      "Skipping the file ../../results\\log4j2\\exp-FORK-out\\original\\original-all.csv\n",
      "Skipping the file ../../results\\log4j2\\exp-FORK-out\\fixed_full\\fixed-all.csv\n",
      "Skipping the file ../../results\\netty\\exp-FORK-out\\original\\original-all.csv\n",
      "Skipping the file ../../results\\netty\\exp-FORK-out\\fixed_full\\fixed-all.csv\n",
      "Skipping the file ../../results\\okio\\exp-FINA-out\\original\\original-all.csv\n",
      "Skipping the file ../../results\\okio\\exp-FINA-out\\fixed_full\\fixed-all.csv\n",
      "Skipping the file ../../results\\okio\\exp-LOOP-out\\original\\original-all.csv\n",
      "Skipping the file ../../results\\okio\\exp-LOOP-out\\fixed_full\\fixed-all.csv\n",
      "Skipping the file ../../results\\okio\\exp-RETU-out\\original\\original-all.csv\n",
      "Skipping the file ../../results\\okio\\exp-RETU-out\\fixed_full\\fixed-all.csv\n",
      "Skipping the file ../../results\\okio\\exp-SETUP-out\\original\\original-all.csv\n",
      "Skipping the file ../../results\\okio\\exp-SETUP-out\\fixed_full\\fixed-all.csv\n",
      "Skipping the file ../../results\\okio\\exp-INVO-out\\original\\original-all.csv\n",
      "Skipping the file ../../results\\okio\\exp-INVO-out\\fixed_full\\fixed-all.csv\n",
      "Skipping the file ../../results\\okio\\exp-FORK-out\\original\\original-all.csv\n",
      "Skipping the file ../../results\\okio\\exp-FORK-out\\fixed_full\\fixed-all.csv\n",
      "Skipping the file ../../results\\druid\\exp-FINA-out\\original\\original-all.csv\n",
      "Skipping the file ../../results\\druid\\exp-FINA-out\\fixed_full\\fixed-all.csv\n",
      "Skipping the file ../../results\\druid\\exp-RETU-out\\original\\original-all.csv\n",
      "Skipping the file ../../results\\druid\\exp-RETU-out\\fixed_full\\fixed-all.csv\n",
      "Skipping the file ../../results\\druid\\exp-SETUP-out\\original\\original-all.csv\n",
      "Skipping the file ../../results\\druid\\exp-SETUP-out\\fixed_full\\fixed-all.csv\n",
      "Skipping the file ../../results\\druid\\exp-FORK-out\\original\\original-all.csv\n",
      "Skipping the file ../../results\\druid\\exp-FORK-out\\fixed_full\\fixed-all.csv\n",
      "Skipping the file ../../results\\pgdbc\\exp-FINA-out\\original\\original-all.csv\n",
      "Skipping the file ../../results\\pgdbc\\exp-FINA-out\\fixed_full\\fixed-all.csv\n",
      "Skipping the file ../../results\\pgdbc\\exp-LOOP-out\\original\\original-all.csv\n",
      "Skipping the file ../../results\\pgdbc\\exp-LOOP-out\\fixed_full\\fixed-all.csv\n",
      "Skipping the file ../../results\\pgdbc\\exp-RETU-out\\original\\original-all.csv\n",
      "Skipping the file ../../results\\pgdbc\\exp-RETU-out\\fixed_full\\fixed-all.csv\n",
      "Skipping the file ../../results\\pgdbc\\exp-SETUP-out\\original\\original-all.csv\n",
      "Skipping the file ../../results\\pgdbc\\exp-SETUP-out\\fixed_full\\fixed-all.csv\n",
      "Skipping the file ../../results\\pgdbc\\exp-INVO-out\\original\\original-all.csv\n",
      "Skipping the file ../../results\\pgdbc\\exp-INVO-out\\fixed_full\\fixed-all.csv\n",
      "Skipping the file ../../results\\h2o-3\\exp-FINA-out\\original\\original-all.csv\n",
      "Skipping the file ../../results\\h2o-3\\exp-FINA-out\\fixed_full\\fixed-all.csv\n",
      "Skipping the file ../../results\\h2o-3\\exp-LOOP-out\\original\\original-all.csv\n",
      "Skipping the file ../../results\\h2o-3\\exp-LOOP-out\\fixed_full\\fixed-all.csv\n",
      "Skipping the file ../../results\\h2o-3\\exp-RETU-out\\original\\original-all.csv\n",
      "Skipping the file ../../results\\h2o-3\\exp-RETU-out\\fixed_full\\fixed-all.csv\n",
      "Skipping the file ../../results\\h2o-3\\exp-SETUP-out\\original\\original-all.csv\n",
      "Skipping the file ../../results\\h2o-3\\exp-SETUP-out\\fixed_full\\fixed-all.csv\n",
      "Skipping the file ../../results\\h2o-3\\exp-FORK-out\\original\\original-all.csv\n",
      "Skipping the file ../../results\\h2o-3\\exp-FORK-out\\fixed_full\\fixed-all.csv\n",
      "Skipping the file ../../results\\gs-collections\\exp-FINA-out\\original\\original-all.csv\n",
      "Skipping the file ../../results\\gs-collections\\exp-FINA-out\\fixed_full\\fixed-all.csv\n",
      "Skipping the file ../../results\\gs-collections\\exp-LOOP-out\\original\\original-all.csv\n",
      "Skipping the file ../../results\\gs-collections\\exp-LOOP-out\\fixed_full\\fixed-all.csv\n",
      "Skipping the file ../../results\\gs-collections\\exp-SETUP-out\\original\\original-all.csv\n",
      "Skipping the file ../../results\\gs-collections\\exp-SETUP-out\\fixed_full\\fixed-all.csv\n",
      "Skipping the file ../../results\\gs-collections\\exp-INVO-out\\original\\original-all.csv\n",
      "Skipping the file ../../results\\gs-collections\\exp-INVO-out\\fixed_full\\fixed-all.csv\n",
      "Skipping the file ../../results\\gs-collections\\exp-FORK-out\\original\\original-all.csv\n",
      "Skipping the file ../../results\\gs-collections\\exp-FORK-out\\fixed_full\\fixed-all.csv\n"
     ]
    },
    {
     "data": {
      "text/plain": [
       "235110"
      ]
     },
     "execution_count": 3,
     "metadata": {},
     "output_type": "execute_result"
    }
   ],
   "source": [
    "# Read everything\n",
    "\n",
    "df = pd.DataFrame()\n",
    "for p in projects:\n",
    "    for exp in experiments:\n",
    "        for v, f in zip(versions, files):\n",
    "            \n",
    "            fname = os.path.join(folder, p, 'exp-%s-out' % exp, v, f)\n",
    "            if os.path.isfile(fname): \n",
    "                temp = pd.read_csv(fname)\n",
    "\n",
    "                temp['Project'] = p\n",
    "                temp['Experiment'] = exp\n",
    "                temp['Version'] = v\n",
    "\n",
    "                df = temp if len(df) == 0 else df.append(temp)\n",
    "            else:\n",
    "                print('Skipping the file %s'  % fname)\n",
    "            \n",
    "len(df)\n"
   ]
  },
  {
   "cell_type": "code",
   "execution_count": 4,
   "metadata": {},
   "outputs": [],
   "source": [
    "iterations = df.groupby(['Project', 'Experiment', 'Class', 'Method'], as_index=False).apply(lambda x : len(x)).reset_index()"
   ]
  },
  {
   "cell_type": "code",
   "execution_count": 5,
   "metadata": {},
   "outputs": [
    {
     "data": {
      "text/plain": [
       "Project         Experiment\n",
       "druid           INVO           700\n",
       "                LOOP           150\n",
       "gs-collections  RETU           100\n",
       "h2o-3           INVO          1200\n",
       "log4j2          FINA          4000\n",
       "                LOOP           200\n",
       "                RETU          4000\n",
       "netty           FINA           400\n",
       "                INVO          2400\n",
       "                LOOP           260\n",
       "                RETU          2400\n",
       "                SETUP          780\n",
       "pgdbc           FORK           200\n",
       "dtype: int64"
      ]
     },
     "execution_count": 5,
     "metadata": {},
     "output_type": "execute_result"
    }
   ],
   "source": [
    "iterations.groupby(['Project', 'Experiment']).apply(lambda x : x[0].min())"
   ]
  },
  {
   "cell_type": "code",
   "execution_count": 6,
   "metadata": {},
   "outputs": [
    {
     "data": {
      "text/plain": [
       "Project         Experiment\n",
       "druid           INVO            900\n",
       "                LOOP           7000\n",
       "gs-collections  RETU           9000\n",
       "h2o-3           INVO          14400\n",
       "log4j2          FINA           4000\n",
       "                LOOP           4000\n",
       "                RETU           4000\n",
       "netty           FINA            400\n",
       "                INVO           4200\n",
       "                LOOP            400\n",
       "                RETU           2400\n",
       "                SETUP           780\n",
       "pgdbc           FORK            600\n",
       "dtype: int64"
      ]
     },
     "execution_count": 6,
     "metadata": {},
     "output_type": "execute_result"
    }
   ],
   "source": [
    "iterations.groupby(['Project', 'Experiment']).apply(lambda x : x[0].max())"
   ]
  },
  {
   "cell_type": "code",
   "execution_count": 14,
   "metadata": {},
   "outputs": [
    {
     "data": {
      "text/plain": [
       "780.0"
      ]
     },
     "execution_count": 14,
     "metadata": {},
     "output_type": "execute_result"
    }
   ],
   "source": [
    "iterations[0].median()"
   ]
  }
 ],
 "metadata": {
  "kernelspec": {
   "display_name": "Python 3",
   "language": "python",
   "name": "python3"
  },
  "language_info": {
   "codemirror_mode": {
    "name": "ipython",
    "version": 3
   },
   "file_extension": ".py",
   "mimetype": "text/x-python",
   "name": "python",
   "nbconvert_exporter": "python",
   "pygments_lexer": "ipython3",
   "version": "3.6.5"
  }
 },
 "nbformat": 4,
 "nbformat_minor": 2
}
