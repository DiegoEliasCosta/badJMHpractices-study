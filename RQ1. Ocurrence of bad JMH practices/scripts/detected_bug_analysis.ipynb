{
 "cells": [
  {
   "cell_type": "markdown",
   "metadata": {},
   "source": [
    "## Read Files"
   ]
  },
  {
   "cell_type": "code",
   "execution_count": null,
   "metadata": {},
   "outputs": [],
   "source": [
    "import pandas as pd\n",
    "import os\n",
    "\n",
    "# Files to use for the analysis\n",
    "\n",
    "data_folder = os.path.join(\"../data\")\n",
    "raw_results = os.path.join(\"../results/raw-results\")\n",
    "results_folder = os.path.join(\"../results\")\n",
    "fig_folder = os.path.join(\"../results/plots\")\n",
    "\n",
    "projects_ranking_file = os.path.join(data_folder, 'jmh-projects-bigquery-201702.csv')\n",
    "\n",
    "top = 25\n",
    "\n",
    "projects = pd.read_csv(projects_ranking_file, sep=',')\n",
    "\n",
    "\n",
    "# Normalize columns\n",
    "projects['xml'] = projects['project'].apply(lambda x: x.split('/')[1] + '.xml')\n",
    "projects['name'] = projects['project'].apply(lambda x: x.split('/')[1])\n"
   ]
  },
  {
   "cell_type": "code",
   "execution_count": null,
   "metadata": {},
   "outputs": [],
   "source": [
    "# Normalizing the plot colors\n",
    "COLOR = 'lightskyblue'\n",
    "ALPHA = .8"
   ]
  },
  {
   "cell_type": "markdown",
   "metadata": {},
   "source": [
    "## Remove Projects that could not be analyzed"
   ]
  },
  {
   "cell_type": "code",
   "execution_count": null,
   "metadata": {},
   "outputs": [],
   "source": [
    "# Remove projects that could not be analyzed\n",
    "projects_to_remove = ['jgrapht/jgrapht', 'lemire/RoaringBitmap', 'RoaringBitmap/RoaringBitmap', \n",
    "                      'requery/requery', 'Netflix/feign', 'crate/crate', 'real-logic/simple-binary-encoding', \n",
    "                      'jbachorik/btrace', 'promeG/TinyPinyin', 'pcollections/pcollections', 'ktoso/sbt-jmh', \n",
    "                      'junkdog/artemis-odb', 'fakemongo/fongo', 'graalvm/truffle', 'graalvm/graal-core']\n",
    "\n",
    "projects = projects[~projects['project'].isin(projects_to_remove)] # jgrapht\n",
    "\n",
    "top_projects = projects.sort_values(by=['watchers', 'stars', 'forks'], ascending=False)"
   ]
  },
  {
   "cell_type": "markdown",
   "metadata": {},
   "source": [
    "### Remove Forked Projects"
   ]
  },
  {
   "cell_type": "code",
   "execution_count": null,
   "metadata": {},
   "outputs": [],
   "source": [
    "non_duplicated_projects = top_projects[top_projects.forked == False]\n",
    "print('Original Set containing %d projects' % len(top_projects))\n",
    "print('Non-forked projects containing %d projects' % len(non_duplicated_projects))"
   ]
  },
  {
   "cell_type": "markdown",
   "metadata": {},
   "source": [
    "## Analyze the bugs based on the Type reported"
   ]
  },
  {
   "cell_type": "code",
   "execution_count": null,
   "metadata": {},
   "outputs": [],
   "source": [
    "from collections import Counter\n",
    "import xml.etree.ElementTree as ET\n",
    "\n",
    "def analyzeBugTypes(df):\n",
    "    \n",
    "    try:\n",
    "    \n",
    "        tree = ET.parse(os.path.join(raw_results, df['xml']))\n",
    "        root = tree.getroot()\n",
    "\n",
    "        all_bugs = root.findall('BugInstance')\n",
    "\n",
    "        bugs_per_type = [] \n",
    "        for b in all_bugs:\n",
    "            bug_type = b.get('type')\n",
    "            clazz = b.find('Class')\n",
    "            if clazz and 'generated' not in clazz.get('classname'):\n",
    "                bugs_per_type.append(bug_type)\n",
    "\n",
    "        # Count bugs per type\n",
    "        bugs = Counter(bugs_per_type)\n",
    "        for key, value in bugs.items():\n",
    "            df[key] = value\n",
    "    \n",
    "    except FileNotFoundError:\n",
    "        pass\n",
    "    \n",
    "    return df\n",
    "\n",
    "analyzed = non_duplicated_projects.apply(analyzeBugTypes, axis=1)\n",
    "analyzed = analyzed.fillna(0)\n",
    "analyzed = analyzed.set_index('name')\n",
    "analyzed = analyzed[analyzed['JMH_BENCHMARK_METHOD_FOUND'] > 0]\n",
    "\n",
    "columns_to_export = [\n",
    "   'stars',\n",
    "   'forks',\n",
    "    'subscribers',\n",
    "    'watchers',\n",
    "    'JMH_BENCHMARK_METHOD_FOUND',\n",
    "    'JMH_FIXTURE_USING_INVOCATION_SCOPE',\n",
    "    'JMH_NOTFORKED_BENCHMARK',\n",
    "    'JMH_DEAD_STORE_VARIABLE',\n",
    "    'JMH_IGNORED_STATIC_METHOD_RETURN',\n",
    "    'JMH_IGNORED_STATIC_PRIMITIVE_METHOD_RETURN',\n",
    "    'JMH_STATE_FINAL_PRIMITIVE',\n",
    "    'JMH_UNSAFELOOP_INSIDE_BENCHMARK',\n",
    "]\n",
    "\n",
    "\n",
    "bug_type_dict = {\n",
    "    'stars': 'Stars',\n",
    "    'forks': 'Forks',\n",
    "    'subscribers': 'Subs',\n",
    "    'JMH_BENCHMARK_METHOD_FOUND': 'Benchs',\n",
    "    'JMH_FIXTURE_USING_INVOCATION_SCOPE': 'INVO',\n",
    "    'JMH_IGNORED_METHOD_RETURN': 'RETU',\n",
    "    'JMH_UNSAFELOOP_INSIDE_BENCHMARK': 'LOOP',\n",
    "    'JMH_STATE_FINAL_FIELD': 'FINA',\n",
    "    'JMH_NOTFORKED_BENCHMARK': 'FORK',\n",
    "    'JMH_DEAD_STORE_VARIABLE': 'DEAD',\n",
    "    'JMH_IGNORED_STATIC_METHOD_RETURN': 'STAT',\n",
    "    'JMH_IGNORED_STATIC_PRIMITIVE_METHOD_RETURN': 'STAT2',\n",
    "    \n",
    "    'JMH_STATE_FINAL_PRIMITIVE': 'FINA',\n",
    "    \n",
    "}\n",
    "\n",
    "analyzed = analyzed[columns_to_export]\n",
    "analyzed = analyzed.rename(columns=bug_type_dict)\n"
   ]
  },
  {
   "cell_type": "markdown",
   "metadata": {},
   "source": [
    "### Droping some duplicates\n",
    "\n",
    "For some reasons our set contains some projects multiple times."
   ]
  },
  {
   "cell_type": "code",
   "execution_count": null,
   "metadata": {},
   "outputs": [],
   "source": [
    "analyzed = analyzed.sort_values(by='Stars', ascending=False)\n",
    "print(len(analyzed))\n",
    "\n",
    "print(\"Removing the following projects\")\n",
    "print(analyzed[analyzed.index.duplicated(keep='first')].index)\n",
    "\n",
    "# Remove the one with least amount of stars\n",
    "analyzed = analyzed[~analyzed.index.duplicated(keep='first')]\n",
    "print(len(analyzed))\n"
   ]
  },
  {
   "cell_type": "markdown",
   "metadata": {},
   "source": [
    "# Dataset Exploration "
   ]
  },
  {
   "cell_type": "markdown",
   "metadata": {},
   "source": [
    "### Stars"
   ]
  },
  {
   "cell_type": "code",
   "execution_count": null,
   "metadata": {},
   "outputs": [],
   "source": [
    "import seaborn as sns\n",
    "%matplotlib inline\n",
    "import matplotlib.ticker as ticker\n",
    "import matplotlib.pyplot as plt\n",
    "\n",
    "sns.set(font_scale=1.8)\n",
    "plt.figure(figsize=(6,5))\n",
    "sns.set_style(\"ticks\")\n",
    "\n",
    "starbins=[0,10,25,50,100,500,50000]\n",
    "\n",
    "stars = pd.cut(analyzed['Stars'], bins=starbins).value_counts()\n",
    "ax = sns.barplot(x=stars.index, y=stars, color=COLOR, alpha=ALPHA)\n",
    "\n",
    "ax.set_xticklabels(['<10', '11-25','26-50','51-100','101-500','>500'], rotation = 45, ha=\"right\")\n",
    "# , rotation = 45, ha=\"right\"\n",
    "ax.set(xlabel='# of Stars', ylabel='# of Projects')\n",
    "\n",
    "plt.tight_layout()\n",
    "#plt.savefig(os.path.join(fig_folder, 'projects-stars-distribution.pdf'))\n",
    "#plt.close()"
   ]
  },
  {
   "cell_type": "markdown",
   "metadata": {},
   "source": [
    "### Forks"
   ]
  },
  {
   "cell_type": "code",
   "execution_count": null,
   "metadata": {},
   "outputs": [],
   "source": [
    "sns.set(font_scale=1.2)\n",
    "plt.figure(figsize=(6,4))\n",
    "sns.set_style(\"ticks\")\n",
    "\n",
    "forksbin=[0,10,25,50,100,500,50000]\n",
    "\n",
    "forks = pd.cut(analyzed['Forks'], bins=forksbin).value_counts()\n",
    "ax = sns.barplot(x=forks.index, y=forks, color=COLOR, alpha=ALPHA)\n",
    "\n",
    "ax.set_xticklabels(['<10', '11-25','26-50','51-100','101-500','>500'], rotation = 45, ha=\"right\")\n",
    "ax.set(xlabel='# of Forks', ylabel='# of Projects')\n",
    "\n",
    "plt.tight_layout()\n",
    "#plt.savefig(os.path.join(fig_folder, 'projects-forks-distribution.pdf'))\n",
    "#plt.close()"
   ]
  },
  {
   "cell_type": "markdown",
   "metadata": {},
   "source": [
    "### Subscribers"
   ]
  },
  {
   "cell_type": "code",
   "execution_count": null,
   "metadata": {},
   "outputs": [],
   "source": [
    "sns.set(font_scale=1.8)\n",
    "plt.figure(figsize=(6,5))\n",
    "sns.set_style(\"ticks\")\n",
    "\n",
    "subscribersbin=[0,10,25,50,100,500,50000]\n",
    "\n",
    "subs = pd.cut(analyzed['Subs'], bins=subscribersbin).value_counts()\n",
    "ax = sns.barplot(x=subs.index, y=subs, color=COLOR, alpha=ALPHA)\n",
    "\n",
    "ax.set_xticklabels(['<10', '11-25','26-50','51-100','101-500','>500'], rotation = 45, ha=\"right\")\n",
    "ax.set(xlabel='# of Subscribers', ylabel='# of Projects')\n",
    "\n",
    "plt.tight_layout()\n",
    "#plt.savefig(os.path.join(fig_folder, 'projects-subscribers-distribution.pdf'))\n",
    "#plt.close()"
   ]
  },
  {
   "cell_type": "markdown",
   "metadata": {},
   "source": [
    "### Consolidate RETU anti-pattern"
   ]
  },
  {
   "cell_type": "code",
   "execution_count": null,
   "metadata": {},
   "outputs": [],
   "source": [
    "analyzed['RETU'] = analyzed['DEAD'] + analyzed['STAT2'] + analyzed['STAT']"
   ]
  },
  {
   "cell_type": "markdown",
   "metadata": {},
   "source": [
    "## Latex Table - By Amount of Benchmarks"
   ]
  },
  {
   "cell_type": "code",
   "execution_count": null,
   "metadata": {},
   "outputs": [],
   "source": [
    "latex = analyzed.copy()\n",
    "\n",
    "pd.options.display.float_format = '{:.0f}'.format\n",
    "\n",
    "\n",
    "latex = latex.sort_values(by='Benchs', ascending=False)\n",
    "\n",
    "latex = latex[:25]\n",
    "latex = latex.fillna('')\n",
    "latex = latex.replace({0: ''})\n",
    "\n",
    "order = ['Stars', 'Benchs', 'RETU', 'LOOP', 'FINA', 'INVO', 'FORK']\n",
    "\n",
    "print(latex[order].to_latex())"
   ]
  },
  {
   "cell_type": "markdown",
   "metadata": {},
   "source": [
    "### Latex (Full Table)"
   ]
  },
  {
   "cell_type": "code",
   "execution_count": null,
   "metadata": {},
   "outputs": [],
   "source": [
    "latex = analyzed.copy()\n",
    "\n",
    "pd.options.display.float_format = '{:.0f}'.format\n",
    "\n",
    "\n",
    "latex = latex.sort_values(by='Benchs', ascending=False)\n",
    "\n",
    "latex = latex.fillna('')\n",
    "latex = latex.replace({0: ''})\n",
    "\n",
    "order = ['Stars', 'Benchs', 'RETU', 'LOOP', 'FINA', 'INVO', 'FORK']\n",
    "\n",
    "latex[order].to_csv(os.path.join(results_folder, 'bad-jmh-practices-occurrence.csv'))"
   ]
  },
  {
   "cell_type": "code",
   "execution_count": null,
   "metadata": {},
   "outputs": [],
   "source": [
    "anti_patterns = ['INVO', 'FORK', 'RETU', 'FINA', 'LOOP']\n",
    "\n",
    "def anti_pattern_category_analysis(df):\n",
    "    cat = 0\n",
    "    count = 0\n",
    "    for ap in anti_patterns:\n",
    "        if df[ap] > 0:\n",
    "            cat = cat + 1\n",
    "            count = count + df[ap]\n",
    "    df['# of AP'] = count\n",
    "    df['# of Categories'] = cat\n",
    "    return df\n",
    "    \n",
    "df = analyzed.apply(anti_pattern_category_analysis, axis=1)\n",
    "print('Analyzed Projects containing %d' % len(df))"
   ]
  },
  {
   "cell_type": "markdown",
   "metadata": {},
   "source": [
    "### Project Distribution Analysis\n",
    "\n",
    "Anti-patterns category distribution across different projects."
   ]
  },
  {
   "cell_type": "code",
   "execution_count": null,
   "metadata": {},
   "outputs": [],
   "source": [
    "%matplotlib inline\n",
    "sns.set(font_scale=1.2)\n",
    "sns.set_style(\"ticks\")\n",
    "\n",
    "bins = [-1,0,1,2,3,4,5,10,50]\n",
    "\n",
    "plt.figure(figsize=(6,4))\n",
    "\n",
    "clrs = 'colorblind'\n",
    "clrs = 'Blues'\n",
    "\n",
    "distribution = pd.cut(df['# of AP'], bins=bins).value_counts()\n",
    "#distribution = distribution / 123 * 100\n",
    "distribution = distribution[distribution > 0]\n",
    "ax = sns.barplot(y=distribution.index, x=distribution, color=COLOR, alpha=ALPHA)\n",
    "\n",
    "for p in ax.patches:\n",
    "    if p.get_width() > 40:\n",
    "        offset = -4\n",
    "    else:\n",
    "        offset = +4\n",
    "    ax.annotate(\"%.0f\" % p.get_width(), (p.get_x() + p.get_width() + offset, p.get_y() + .5),\n",
    "         ha='center', va='center', rotation=0, xytext=(0, 0), textcoords='offset points',fontsize=12, color='dimgray')  #vertical bars\n",
    "\n",
    "ax.yaxis.set_major_formatter(ticker.FixedFormatter(['0','1','2','3','4','5','6-10','+10']))\n",
    "ax.set(ylabel='# of identified bad JMH practices', xlabel='# of Projects',)\n",
    "\n",
    "plt.tight_layout()\n",
    "#plt.savefig(os.path.join(fig_folder, 'projects-ap-ditribution.pdf'))"
   ]
  },
  {
   "cell_type": "markdown",
   "metadata": {},
   "source": [
    "### With Large Benchmark Suites"
   ]
  },
  {
   "cell_type": "code",
   "execution_count": null,
   "metadata": {},
   "outputs": [],
   "source": [
    "large_df = df[df.Benchs >= 10]\n",
    "len(large_df)"
   ]
  },
  {
   "cell_type": "code",
   "execution_count": null,
   "metadata": {},
   "outputs": [],
   "source": [
    "%matplotlib inline\n",
    "sns.set(font_scale=1.2)\n",
    "sns.set_style(\"ticks\")\n",
    "\n",
    "bins = [-1,0,1,2,3,4,5,10,50]\n",
    "\n",
    "plt.figure(figsize=(6,4))\n",
    "\n",
    "clrs = 'colorblind'\n",
    "clrs = 'Blues'\n",
    "\n",
    "distribution = pd.cut(large_df['# of AP'], bins=bins).value_counts()\n",
    "#distribution = distribution / 123 * 100\n",
    "distribution = distribution[distribution > 0]\n",
    "ax = sns.barplot(y=distribution.index, x=distribution, color=COLOR, alpha=ALPHA)\n",
    "\n",
    "for p in ax.patches:\n",
    "    if p.get_width() > 20:\n",
    "        offset = -1\n",
    "    else:\n",
    "        offset = +1\n",
    "    ax.annotate(\"%.0f\" % p.get_width(), (p.get_x() + p.get_width() + offset, p.get_y() + .5),\n",
    "         ha='center', va='center', rotation=0, xytext=(0, 0), textcoords='offset points',fontsize=12, color='dimgray')  #vertical bars\n",
    "\n",
    "ax.yaxis.set_major_formatter(ticker.FixedFormatter(['0','1','2','3','4','5','6-10','+10']))\n",
    "ax.set(ylabel='# of identified bad JMH practices', xlabel='# of Projects',)\n",
    "\n",
    "plt.tight_layout()\n",
    "#plt.savefig(os.path.join(fig_folder, 'projects-ap-ditribution-large.pdf'))"
   ]
  },
  {
   "cell_type": "markdown",
   "metadata": {},
   "source": [
    "### Analysis per Category of Anti-pattern"
   ]
  },
  {
   "cell_type": "code",
   "execution_count": null,
   "metadata": {},
   "outputs": [],
   "source": [
    "category_df = pd.DataFrame(columns=['Total', '# of Projects'])\n",
    "\n",
    "pd.options.display.float_format = '{:.2f}'.format\n",
    "\n",
    "for ap in anti_patterns:\n",
    "    total = df[ap].sum()\n",
    "    projects = len(df[df[ap] > 0])\n",
    "    category_df.loc[ap] = [total, projects]\n",
    "    \n",
    "category_df['% of Projects'] = category_df['# of Projects'] / len(df) * 100\n",
    "\n",
    "print(category_df.to_latex())"
   ]
  },
  {
   "cell_type": "markdown",
   "metadata": {},
   "source": [
    "### Selected Projects"
   ]
  },
  {
   "cell_type": "code",
   "execution_count": null,
   "metadata": {},
   "outputs": [],
   "source": [
    "selected = pd.DataFrame(columns=['#1', '#2', '#3'])\n",
    "\n",
    "for ap in anti_patterns: \n",
    "    p = analyzed[analyzed[ap] > 1] # Filter unique cases\n",
    "    selected.loc[ap] = p[:3].index.values\n",
    "    \n",
    "print(selected.to_latex())"
   ]
  },
  {
   "cell_type": "markdown",
   "metadata": {},
   "source": [
    "### Correlation between # Benchmarks and Amount of Antipatterns found"
   ]
  },
  {
   "cell_type": "code",
   "execution_count": null,
   "metadata": {},
   "outputs": [],
   "source": [
    "from scipy import stats\n",
    "\n",
    "all_antipatterns = ['INVO', 'FORK', 'RETU', 'LOOP', 'FINA']\n",
    "\n",
    "df['# of Anti-patterns'] = df[all_antipatterns].apply(sum, axis=1)\n",
    "\n",
    "ax = sns.regplot(x=\"# of Anti-patterns\", y=\"Benchs\", data=df)\n",
    "ax.set(xlabel='# of Anti-patterns', ylabel='# of Benchmark Tests')\n",
    "#plt.savefig(os.path.join(fig_folder, '..', 'figs', 'correlation-bench-ap.pdf'))\n",
    "\n",
    "stats.pearsonr(df['Benchs'].values, df['# of Anti-patterns'].values)"
   ]
  }
 ],
 "metadata": {
  "kernelspec": {
   "display_name": "Python 3",
   "language": "python",
   "name": "python3"
  },
  "language_info": {
   "codemirror_mode": {
    "name": "ipython",
    "version": 3
   },
   "file_extension": ".py",
   "mimetype": "text/x-python",
   "name": "python",
   "nbconvert_exporter": "python",
   "pygments_lexer": "ipython3",
   "version": "3.6.5"
  }
 },
 "nbformat": 4,
 "nbformat_minor": 2
}
